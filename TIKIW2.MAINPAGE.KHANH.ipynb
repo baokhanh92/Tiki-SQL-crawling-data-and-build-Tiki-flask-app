{
 "cells": [
  {
   "cell_type": "code",
   "execution_count": 22,
   "metadata": {},
   "outputs": [],
   "source": [
    "import requests\n",
    "import psycopg2\n",
    "from bs4 import BeautifulSoup"
   ]
  },
  {
   "cell_type": "code",
   "execution_count": 52,
   "metadata": {},
   "outputs": [],
   "source": [
    "def parse(url):\n",
    "    try:\n",
    "        response = requests.get(url).text\n",
    "        response = BeautifulSoup(response, \"html.parser\")\n",
    "        return response\n",
    "    except Exception as err:\n",
    "        print(f'ERROR: {err}')\n",
    "        return ''\n",
    "        \n"
   ]
  },
  {
   "cell_type": "code",
   "execution_count": 75,
   "metadata": {},
   "outputs": [],
   "source": [
    "#access database\n",
    "conn = psycopg2.connect(user='khanh', database=\"khanhdb\")\n",
    "conn.autocommit = True\n",
    "#create cursor to execute \n",
    "cur = conn.cursor()"
   ]
  },
  {
   "cell_type": "code",
   "execution_count": 24,
   "metadata": {},
   "outputs": [
    {
     "name": "stdout",
     "output_type": "stream",
     "text": [
      "error\n"
     ]
    }
   ],
   "source": [
    "def create_table():\n",
    "    query = '''\n",
    "        CREATE TABLE cate (id SERIAL PRIMARY KEY, name VARCHAR(255), url TEXT, parent_id INT, created_at TIMESTAMP DEFAULT CURRENT_TIMESTAMP);\n",
    "    '''\n",
    "    try:\n",
    "        cur.execute(query)\n",
    "    except Exception as err:\n",
    "        print('error')\n",
    "        \n",
    "create_table()"
   ]
  },
  {
   "cell_type": "code",
   "execution_count": 76,
   "metadata": {},
   "outputs": [],
   "source": [
    "class Category:\n",
    "    def __init__(self, cat_id, name, url, parent_id):\n",
    "        self.cat_id = cat_id\n",
    "        self.name = name\n",
    "        self.url = url\n",
    "        self.parent_id = parent_id\n",
    "        \n",
    "    def save_into_db(self):\n",
    "        \n",
    "        query = 'SELECT url FROM categories WHERE url LIKE %s;'\n",
    "        val = (self.url,)\n",
    "        try:\n",
    "            cur.execute(query, val)\n",
    "            result = cur.fetchall()\n",
    "            if len(result) > 0:\n",
    "                return ''\n",
    "        except Exception as err:\n",
    "            print(f'ERROR: {err}')\n",
    "            \n",
    "        query = f\"\"\"\n",
    "            INSERT INTO categories (name, url, parent_id) \n",
    "            VALUES (%s, %s, %s) RETURNING id;\n",
    "        \"\"\"\n",
    "        val = (self.name, self.url, self.parent_id)\n",
    "        try:\n",
    "            cur.execute(query, val)\n",
    "            # Get id of the new row\n",
    "            self.cat_id = cur.fetchone()[0]\n",
    "        except Exception as err:\n",
    "            print(f'ERROR: {err}')\n",
    "        \n",
    "    def __repr__(self):\n",
    "        return f'ID: {self.cat_id}, Name: {self.name}, URL: {self.url}, Parent ID: {self.parent_id}'"
   ]
  },
  {
   "cell_type": "code",
   "execution_count": 77,
   "metadata": {},
   "outputs": [],
   "source": [
    "# Function to get all URLs of categories on Tiki\n",
    "def get_main_categories(save_db=False):\n",
    "    # Run Parser on Tiki\n",
    "    s = parse(TIKI_URL)\n",
    "    \n",
    "    # Initialize an empty list of category \n",
    "    category_list = []\n",
    "\n",
    "    # Scrape through the navigator bar on Tiki homepage\n",
    "    for i in s.findAll('a',{'class':'MenuItem__MenuLink-tii3xq-1 efuIbv'}):\n",
    "        # new category has no id\n",
    "        cat_id = None\n",
    "        \n",
    "        # Get the category name\n",
    "        name = i.find('span',{'class':'text'}).text \n",
    "        \n",
    "        # Get the url value\n",
    "        url = i['href'] + \"&page=1\"\n",
    "        \n",
    "        # main categories has no parent\n",
    "        parent_id = None\n",
    "        \n",
    "        # Add category and url values to list\n",
    "        cat = Category(None, name, url, parent_id)\n",
    "        if save_db:\n",
    "            cat.save_into_db()\n",
    "        category_list.append(cat)\n",
    "        \n",
    "    return category_list"
   ]
  },
  {
   "cell_type": "code",
   "execution_count": 78,
   "metadata": {},
   "outputs": [],
   "source": [
    "main_categories = get_main_categories(save_db=True)"
   ]
  },
  {
   "cell_type": "code",
   "execution_count": 79,
   "metadata": {},
   "outputs": [],
   "source": [
    "def get_sub_categories(category, save_db=False):\n",
    "    name = category.name\n",
    "    url = category.url\n",
    "    sub_categories = []\n",
    "\n",
    "    try:\n",
    "        div_containers = parse(url).find_all('div', attrs={\"class\": \"list-group-item is-child\"})\n",
    "        for div in div_containers:\n",
    "            sub_id = None\n",
    "            sub_name = div.a.text\n",
    "            sub_url = 'https://tiki.vn' + div.a.get('href')\n",
    "            sub_parent_id = category.cat_id\n",
    "            \n",
    "            cat = Category(sub_id, sub_name, sub_url, sub_parent_id)\n",
    "            if save_db:\n",
    "                cat.save_into_db()\n",
    "            if cat.cat_id is not None:\n",
    "                sub_categories.append(cat)\n",
    "    except Exception as err:\n",
    "        print(f'ERROR: {err}')\n",
    "    \n",
    "    return sub_categories"
   ]
  },
  {
   "cell_type": "code",
   "execution_count": 80,
   "metadata": {},
   "outputs": [],
   "source": [
    "def get_all_categories(main_categories):\n",
    "    queue = deque(main_categories)\n",
    "    count = 0\n",
    "    \n",
    "    while queue:\n",
    "        parent_cat = queue.popleft()\n",
    "        sub_list = get_sub_categories(parent_cat, save_db=True)\n",
    "        queue.extend(sub_list)\n",
    "        \n",
    "        # sub_list is empty, which mean the parent_cat has no sub-categories\n",
    "        if not sub_list:\n",
    "            count+=1\n",
    "            if count % 100 == 0:\n",
    "                print(f'{count} number of deepest nodes')"
   ]
  }
 ],
 "metadata": {
  "kernelspec": {
   "display_name": "Python 3",
   "language": "python",
   "name": "python3"
  },
  "language_info": {
   "codemirror_mode": {
    "name": "ipython",
    "version": 3
   },
   "file_extension": ".py",
   "mimetype": "text/x-python",
   "name": "python",
   "nbconvert_exporter": "python",
   "pygments_lexer": "ipython3",
   "version": "3.7.3"
  }
 },
 "nbformat": 4,
 "nbformat_minor": 2
}
