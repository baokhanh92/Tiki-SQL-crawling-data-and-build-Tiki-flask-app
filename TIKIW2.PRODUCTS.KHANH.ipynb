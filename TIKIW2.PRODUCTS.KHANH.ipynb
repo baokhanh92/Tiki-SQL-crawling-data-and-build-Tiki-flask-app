{
 "cells": [
  {
   "cell_type": "code",
   "execution_count": 3,
   "metadata": {},
   "outputs": [],
   "source": [
    "import requests\n",
    "from bs4 import BeautifulSoup\n",
    "\n",
    "r = requests.get('https://tiki.vn/')\n"
   ]
  },
  {
   "cell_type": "code",
   "execution_count": 4,
   "metadata": {},
   "outputs": [],
   "source": [
    "soup = BeautifulSoup(r.text, 'html.parser')"
   ]
  },
  {
   "cell_type": "markdown",
   "metadata": {},
   "source": [
    "<!DOCTYPE html>\n",
    "<html class=\"no-js\" lang=\"vi\"><head><meta charset=\"utf-8\" class=\"next-head\"/><meta class=\"next-head\" content=\"Thỏa sức mua sắm qua mạng hàng ngàn mặt hàng sách, điện tử, đồ gia dụng, quà tặng, thời trang, làm đẹp &amp; sức khỏe tại Tiki với giá rẻ hơn và khuyến mãi hấp dẫn\" name=\"description\"/><link class=\"next-head\" href=\"https://frontend.tikicdn.com/_new-next/static/css/_sprite.css?v=201911105610W1JISB19zYa9I_i00qR69\" rel=\"stylesheet\" type=\"text/css\"/><title class=\"next-head\">Mua Hàng Trực Tuyến Uy Tín với Giá Rẻ Hơn tại Tiki.vn</title><link as=\"script\" href=\"https://frontend.tikicdn.com/_new-next/_next/static/6T6AT2VjtDcL7rS0mjoAq/pages/desktop/HomePage.js\" rel=\"preload\"/><link as=\"script\" href=\"https://frontend.tikicdn.com/_new-next/_next/static/6T6AT2VjtDcL7rS0mjoAq/pages/_app.js\" rel=\"preload\"/><link as=\"script\" href=\"https://frontend.tikicdn.com/_new-next/_next/static/6T6AT2VjtDcL7rS0mjoAq/pages/_error.js\" rel=\"preload\"/><link as=\"script\" href=\"https://frontend.tikicdn.com/_new-next/_next/static/runtime/webpack-1b98731a2fdaca4700d3.js\" rel=\"preload\"/><link as=\"script\" href=\"https://frontend.tikicdn.com/_new-next/_next/static/chunks/commons.99d38e109fec1e559fef.js\" rel=\"preload\"/><link as=\"script\" href=\"https://frontend.tikicdn.com/_new-next/_next/static/runtime/main-bf3374b8b531ea783b9d.js\" rel=\"preload\"/><style data-styled=\"bdYVSt KdVZK itgICN kqIazv fJJaNZ bmITMN bHEoKZ kPaydT jzCyqy xBvqJ ijsjHT iUPLQS iXVTaA cBsnUc eqgiix kGHRjb eiGtjR dVzStw iRtcvE fRWDhU hMJbVA bHypCd gflNjp BkPb cKuvwp cotJxS kgAKwJ kZkOAY eJDKUx dQcowb jTNDOl kceUvB kdKHzc iVQqfy fMfjVb hkSHkq iUugFr fBpWPk yKWxU bSZFbq hcTjwK gnJrDC hWakax gYqpO efuIbv iuasrS gRDgYd iWbZiF hpOgho cEiSUm cwnFBY kvcDZQ hVQkDu cdkFCM iMFLYR kVysAB ldjLQd gIMtDx kLAsSg bXjPKi dJLcGq bhWltj\" data-styled-version=\"4.1.3\">\n",
    "/* sc-component-id: Picture__StyledPicture-sc-4h67se-0 */"
   ]
  },
  {
   "cell_type": "code",
   "execution_count": 5,
   "metadata": {},
   "outputs": [
    {
     "ename": "SyntaxError",
     "evalue": "invalid syntax (<ipython-input-5-af26c70104c1>, line 2)",
     "output_type": "error",
     "traceback": [
      "\u001b[0;36m  File \u001b[0;32m\"<ipython-input-5-af26c70104c1>\"\u001b[0;36m, line \u001b[0;32m2\u001b[0m\n\u001b[0;31m    <html class=\"no-js\" lang=\"vi\"><head><meta charset=\"utf-8\" class=\"next-head\"/><meta class=\"next-head\" content=\"Thỏa sức mua sắm qua mạng hàng ngàn mặt hàng sách, điện tử, đồ gia dụng, quà tặng, thời trang, làm đẹp &amp; sức khỏe tại Tiki với giá rẻ hơn và khuyến mãi hấp dẫn\" name=\"description\"/><link class=\"next-head\" href=\"https://frontend.tikicdn.com/_new-next/static/css/_sprite.css?v=201911105610W1JISB19zYa9I_i00qR69\" rel=\"stylesheet\" type=\"text/css\"/><title class=\"next-head\">Mua Hàng Trực Tuyến Uy Tín với Giá Rẻ Hơn tại Tiki.vn</title><link as=\"script\" href=\"https://frontend.tikicdn.com/_new-next/_next/static/6T6AT2VjtDcL7rS0mjoAq/pages/desktop/HomePage.js\" rel=\"preload\"/><link as=\"script\" href=\"https://frontend.tikicdn.com/_new-next/_next/static/6T6AT2VjtDcL7rS0mjoAq/pages/_app.js\" rel=\"preload\"/><link as=\"script\" href=\"https://frontend.tikicdn.com/_new-next/_next/static/6T6AT2VjtDcL7rS0mjoAq/pages/_error.js\" rel=\"preload\"/><link as=\"script\" href=\"https://frontend.tikicdn.com/_new-next/_next/static/runtime/webpack-1b98731a2fdaca4700d3.js\" rel=\"preload\"/><link as=\"script\" href=\"https://frontend.tikicdn.com/_new-next/_next/static/chunks/commons.99d38e109fec1e559fef.js\" rel=\"preload\"/><link as=\"script\" href=\"https://frontend.tikicdn.com/_new-next/_next/static/runtime/main-bf3374b8b531ea783b9d.js\" rel=\"preload\"/><style data-styled=\"bdYVSt KdVZK itgICN kqIazv fJJaNZ bmITMN bHEoKZ kPaydT jzCyqy xBvqJ ijsjHT iUPLQS iXVTaA cBsnUc eqgiix kGHRjb eiGtjR dVzStw iRtcvE fRWDhU hMJbVA bHypCd gflNjp BkPb cKuvwp cotJxS kgAKwJ kZkOAY eJDKUx dQcowb jTNDOl kceUvB kdKHzc iVQqfy fMfjVb hkSHkq iUugFr fBpWPk yKWxU bSZFbq hcTjwK gnJrDC hWakax gYqpO efuIbv iuasrS gRDgYd iWbZiF hpOgho cEiSUm cwnFBY kvcDZQ hVQkDu cdkFCM iMFLYR kVysAB ldjLQd gIMtDx kLAsSg bXjPKi dJLcGq bhWltj\" data-styled-version=\"4.1.3\">\u001b[0m\n\u001b[0m    ^\u001b[0m\n\u001b[0;31mSyntaxError\u001b[0m\u001b[0;31m:\u001b[0m invalid syntax\n"
     ]
    }
   ],
   "source": [
    "!DOCTYPE html>\n",
    "<html class=\"no-js\" lang=\"vi\"><head><meta charset=\"utf-8\" class=\"next-head\"/><meta class=\"next-head\" content=\"Thỏa sức mua sắm qua mạng hàng ngàn mặt hàng sách, điện tử, đồ gia dụng, quà tặng, thời trang, làm đẹp &amp; sức khỏe tại Tiki với giá rẻ hơn và khuyến mãi hấp dẫn\" name=\"description\"/><link class=\"next-head\" href=\"https://frontend.tikicdn.com/_new-next/static/css/_sprite.css?v=201911105610W1JISB19zYa9I_i00qR69\" rel=\"stylesheet\" type=\"text/css\"/><title class=\"next-head\">Mua Hàng Trực Tuyến Uy Tín với Giá Rẻ Hơn tại Tiki.vn</title><link as=\"script\" href=\"https://frontend.tikicdn.com/_new-next/_next/static/6T6AT2VjtDcL7rS0mjoAq/pages/desktop/HomePage.js\" rel=\"preload\"/><link as=\"script\" href=\"https://frontend.tikicdn.com/_new-next/_next/static/6T6AT2VjtDcL7rS0mjoAq/pages/_app.js\" rel=\"preload\"/><link as=\"script\" href=\"https://frontend.tikicdn.com/_new-next/_next/static/6T6AT2VjtDcL7rS0mjoAq/pages/_error.js\" rel=\"preload\"/><link as=\"script\" href=\"https://frontend.tikicdn.com/_new-next/_next/static/runtime/webpack-1b98731a2fdaca4700d3.js\" rel=\"preload\"/><link as=\"script\" href=\"https://frontend.tikicdn.com/_new-next/_next/static/chunks/commons.99d38e109fec1e559fef.js\" rel=\"preload\"/><link as=\"script\" href=\"https://frontend.tikicdn.com/_new-next/_next/static/runtime/main-bf3374b8b531ea783b9d.js\" rel=\"preload\"/><style data-styled=\"bdYVSt KdVZK itgICN kqIazv fJJaNZ bmITMN bHEoKZ kPaydT jzCyqy xBvqJ ijsjHT iUPLQS iXVTaA cBsnUc eqgiix kGHRjb eiGtjR dVzStw iRtcvE fRWDhU hMJbVA bHypCd gflNjp BkPb cKuvwp cotJxS kgAKwJ kZkOAY eJDKUx dQcowb jTNDOl kceUvB kdKHzc iVQqfy fMfjVb hkSHkq iUugFr fBpWPk yKWxU bSZFbq hcTjwK gnJrDC hWakax gYqpO efuIbv iuasrS gRDgYd iWbZiF hpOgho cEiSUm cwnFBY kvcDZQ hVQkDu cdkFCM iMFLYR kVysAB ldjLQd gIMtDx kLAsSg bXjPKi dJLcGq bhWltj\" data-styled-version=\"4.1.3\">\n",
    "/* sc-component-id: Picture__StyledPicture-sc-4h67se-0 */"
   ]
  },
  {
   "cell_type": "code",
   "execution_count": 6,
   "metadata": {},
   "outputs": [],
   "source": [
    "results = soup.find_all('li', {'class', 'MenuItem-tii3xq-0 gYqpO'})"
   ]
  },
  {
   "cell_type": "code",
   "execution_count": 7,
   "metadata": {},
   "outputs": [
    {
     "data": {
      "text/plain": [
       "16"
      ]
     },
     "execution_count": 7,
     "metadata": {},
     "output_type": "execute_result"
    }
   ],
   "source": [
    "len(results)"
   ]
  },
  {
   "cell_type": "code",
   "execution_count": 23,
   "metadata": {
    "scrolled": true
   },
   "outputs": [
    {
     "data": {
      "text/plain": [
       "('Điện Thoại - Máy Tính Bảng',\n",
       " 'https://tiki.vn/dien-thoai-may-tinh-bang/c1789?src=c.1789.hamburger_menu_fly_out_banner')"
      ]
     },
     "execution_count": 23,
     "metadata": {},
     "output_type": "execute_result"
    }
   ],
   "source": [
    "results[0]\n",
    "(results[0].find('span',{'class','text'}).string,\\\n",
    " results[0].a[\"href\"])"
   ]
  },
  {
   "cell_type": "code",
   "execution_count": 44,
   "metadata": {},
   "outputs": [
    {
     "name": "stdout",
     "output_type": "stream",
     "text": [
      "ERROR: zero-length delimited identifier at or near \"\"\"\"\n",
      "LINE 1: ...T INTO categories (name, url) VALUES (+result[0] +\"\", + resu...\n",
      "                                                             ^\n",
      "\n",
      "ERROR: zero-length delimited identifier at or near \"\"\"\"\n",
      "LINE 1: ...T INTO categories (name, url) VALUES (+result[0] +\"\", + resu...\n",
      "                                                             ^\n",
      "\n",
      "ERROR: zero-length delimited identifier at or near \"\"\"\"\n",
      "LINE 1: ...T INTO categories (name, url) VALUES (+result[0] +\"\", + resu...\n",
      "                                                             ^\n",
      "\n",
      "ERROR: zero-length delimited identifier at or near \"\"\"\"\n",
      "LINE 1: ...T INTO categories (name, url) VALUES (+result[0] +\"\", + resu...\n",
      "                                                             ^\n",
      "\n",
      "ERROR: zero-length delimited identifier at or near \"\"\"\"\n",
      "LINE 1: ...T INTO categories (name, url) VALUES (+result[0] +\"\", + resu...\n",
      "                                                             ^\n",
      "\n",
      "ERROR: zero-length delimited identifier at or near \"\"\"\"\n",
      "LINE 1: ...T INTO categories (name, url) VALUES (+result[0] +\"\", + resu...\n",
      "                                                             ^\n",
      "\n",
      "ERROR: zero-length delimited identifier at or near \"\"\"\"\n",
      "LINE 1: ...T INTO categories (name, url) VALUES (+result[0] +\"\", + resu...\n",
      "                                                             ^\n",
      "\n",
      "ERROR: zero-length delimited identifier at or near \"\"\"\"\n",
      "LINE 1: ...T INTO categories (name, url) VALUES (+result[0] +\"\", + resu...\n",
      "                                                             ^\n",
      "\n",
      "ERROR: zero-length delimited identifier at or near \"\"\"\"\n",
      "LINE 1: ...T INTO categories (name, url) VALUES (+result[0] +\"\", + resu...\n",
      "                                                             ^\n",
      "\n",
      "ERROR: zero-length delimited identifier at or near \"\"\"\"\n",
      "LINE 1: ...T INTO categories (name, url) VALUES (+result[0] +\"\", + resu...\n",
      "                                                             ^\n",
      "\n",
      "ERROR: zero-length delimited identifier at or near \"\"\"\"\n",
      "LINE 1: ...T INTO categories (name, url) VALUES (+result[0] +\"\", + resu...\n",
      "                                                             ^\n",
      "\n",
      "ERROR: zero-length delimited identifier at or near \"\"\"\"\n",
      "LINE 1: ...T INTO categories (name, url) VALUES (+result[0] +\"\", + resu...\n",
      "                                                             ^\n",
      "\n",
      "ERROR: zero-length delimited identifier at or near \"\"\"\"\n",
      "LINE 1: ...T INTO categories (name, url) VALUES (+result[0] +\"\", + resu...\n",
      "                                                             ^\n",
      "\n",
      "ERROR: zero-length delimited identifier at or near \"\"\"\"\n",
      "LINE 1: ...T INTO categories (name, url) VALUES (+result[0] +\"\", + resu...\n",
      "                                                             ^\n",
      "\n",
      "ERROR: zero-length delimited identifier at or near \"\"\"\"\n",
      "LINE 1: ...T INTO categories (name, url) VALUES (+result[0] +\"\", + resu...\n",
      "                                                             ^\n",
      "\n",
      "ERROR: zero-length delimited identifier at or near \"\"\"\"\n",
      "LINE 1: ...T INTO categories (name, url) VALUES (+result[0] +\"\", + resu...\n",
      "                                                             ^\n",
      "\n"
     ]
    }
   ],
   "source": [
    "import psycopg2\n",
    "conn = psycopg2.connect(user = \"khanh\",\n",
    "                        password = \"123456\",\n",
    "                        database = \"khanhdb\")\n",
    "conn.autocommit = True\n",
    "cur = conn.cursor()\n",
    "cat = []\n",
    "for result in results:\n",
    "    result = (result.find('span',{'class','text'}).string,\\\n",
    "              result.a[\"href\"])\n",
    "    cat.append(result)\n",
    "#     query = f\"INSERT INTO categories (name, url) VALUES ('\"+ result[0] +\"', '\"+ result[1] +\"');\"\n",
    "    query = \"\"\"INSERT INTO categories (name, url) VALUES (+result[0] +\"\", + result[1] +\"\");\"\"\"\n",
    "    try:\n",
    "        cur.execute(query)\n",
    "        print (query)\n",
    "    except Exception as err:\n",
    "        print(f'ERROR: {err}')\n",
    "conn.close()"
   ]
  },
  {
   "cell_type": "code",
   "execution_count": 25,
   "metadata": {},
   "outputs": [
    {
     "name": "stdout",
     "output_type": "stream",
     "text": [
      "<connection object at 0x7ff64f625528; dsn: 'user=khanh password=xxx dbname=khanhdb', closed: 0>\n"
     ]
    }
   ],
   "source": []
  },
  {
   "cell_type": "code",
   "execution_count": 100,
   "metadata": {},
   "outputs": [],
   "source": [
    "#data\n",
    "records = []\n",
    "for result in results:\n",
    "    title = result.find('span',{'class','text'}).text\n",
    "    link = result.find('a')['href']\n",
    "    records.append((title, link))"
   ]
  },
  {
   "cell_type": "code",
   "execution_count": 1,
   "metadata": {},
   "outputs": [],
   "source": [
    "\n",
    "import pandas as pd"
   ]
  },
  {
   "cell_type": "code",
   "execution_count": 9,
   "metadata": {},
   "outputs": [],
   "source": [
    "def paser(url):\n",
    "    # get html:\n",
    "    plain = requests.get(url)\n",
    "    # convert to html\n",
    "    s = BeautifulSoup(plain.text, 'html.parser')\n",
    "    \n",
    "    return s"
   ]
  },
  {
   "cell_type": "code",
   "execution_count": 19,
   "metadata": {},
   "outputs": [
    {
     "data": {
      "text/plain": [
       "'https://tiki.vn/dien-thoai-may-tinh-bang/c1789?src=c.1789.hamburger_menu_fly_out_banner'"
      ]
     },
     "execution_count": 19,
     "metadata": {},
     "output_type": "execute_result"
    }
   ],
   "source": [
    "s = paser('https://tiki.vn/')\n",
    "a = s.find_all('a',{'class':\"MenuItem__MenuLink-tii3xq-1 efuIbv\"})\n",
    "a[0]['href']\n"
   ]
  },
  {
   "cell_type": "code",
   "execution_count": 11,
   "metadata": {},
   "outputs": [],
   "source": [
    "def get_urls():\n",
    "    url = 'https://tiki.vn/'\n",
    "    s = paser('https://tiki.vn/')\n",
    "    category_list = []\n",
    "    \n",
    "    for i in s.find_all('a',{'class':\"MenuItem__MenuLink-tii3xq-1 efuIbv\"}):\n",
    "        category = i.find('span',{'class':'text'}).text  \n",
    "        url = i['href'] + '&page=1'\n",
    "        category_list.append((category, url))\n",
    "    \n",
    "    return category_list\n",
    "    "
   ]
  },
  {
   "cell_type": "code",
   "execution_count": 24,
   "metadata": {},
   "outputs": [],
   "source": [
    "def get_connection():\n",
    "    conn = psycopg2.connect(user = \"khanh\",\n",
    "                                 password = \"123456\",\n",
    "                                 database = \"khanhdb\")\n",
    "    cur = conn.cursor()"
   ]
  },
  {
   "cell_type": "code",
   "execution_count": 31,
   "metadata": {},
   "outputs": [
    {
     "data": {
      "text/plain": [
       "<connection object at 0x7f7f8bc69db0; dsn: 'user=khanh password=xxx dbname=khanhdb', closed: 0>"
      ]
     },
     "execution_count": 31,
     "metadata": {},
     "output_type": "execute_result"
    }
   ],
   "source": [
    "get_connection()\n"
   ]
  },
  {
   "cell_type": "code",
   "execution_count": 39,
   "metadata": {},
   "outputs": [],
   "source": [
    "\n",
    "try: \n",
    "    query = \"\"\"\n",
    "            CREATE TABLE IF NOT EXISTS categories(\n",
    "                id SERIAL PRIMARY KEY,\n",
    "                name VARCHAR(255),\n",
    "                url TEXT,\n",
    "                parent_id INT,\n",
    "                created_at TIMESTAMP DEFAULT CURRENT_TIMESTAMP\n",
    "                );\n",
    "        \"\"\"\n",
    "\n",
    "    cur.execute(query)\n",
    "    conn.commit()\n",
    "except:\n",
    "    conn.rollback()"
   ]
  },
  {
   "cell_type": "code",
   "execution_count": null,
   "metadata": {},
   "outputs": [],
   "source": []
  }
 ],
 "metadata": {
  "kernelspec": {
   "display_name": "Python 3",
   "language": "python",
   "name": "python3"
  },
  "language_info": {
   "codemirror_mode": {
    "name": "ipython",
    "version": 3
   },
   "file_extension": ".py",
   "mimetype": "text/x-python",
   "name": "python",
   "nbconvert_exporter": "python",
   "pygments_lexer": "ipython3",
   "version": "3.7.3"
  }
 },
 "nbformat": 4,
 "nbformat_minor": 2
}
